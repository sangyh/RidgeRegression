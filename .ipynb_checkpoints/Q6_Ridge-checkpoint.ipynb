{
 "cells": [
  {
   "cell_type": "markdown",
   "metadata": {},
   "source": [
    "Ridge Regression"
   ]
  },
  {
   "cell_type": "code",
   "execution_count": 521,
   "metadata": {
    "collapsed": true
   },
   "outputs": [],
   "source": [
    "import pandas as pd\n",
    "import numpy as np\n",
    "from matplotlib import pyplot as plt"
   ]
  },
  {
   "cell_type": "code",
   "execution_count": 522,
   "metadata": {},
   "outputs": [
    {
     "name": "stdout",
     "output_type": "stream",
     "text": [
      "(1000, 10) (1000, 1)\n"
     ]
    }
   ],
   "source": [
    "#function to read data file\n",
    "def read_data(location):\n",
    "    global no_samples,no_features, X_DF,Y_DF\n",
    "    header_details=pd.read_table(location,nrows=2,header=None)\n",
    "    no_samples=header_details[0][0]\n",
    "    no_features=header_details[0][1]\n",
    "    \n",
    "    X_DF=pd.read_table(location,sep=' ',header=None,skiprows=2,nrows=no_samples)\n",
    "    Y_DF=pd.read_table(location,sep=' ',header=None,skiprows=1002)\n",
    "    print(X_DF.shape,Y_DF.shape)\n",
    "    \n",
    "#read data file train-matrix.txt into a dataframe\n",
    "read_data('./train-matrix.txt')"
   ]
  },
  {
   "cell_type": "code",
   "execution_count": 523,
   "metadata": {},
   "outputs": [
    {
     "name": "stdout",
     "output_type": "stream",
     "text": [
      "(1000, 11)\n",
      "(1000, 1)\n"
     ]
    }
   ],
   "source": [
    "X=np.array(X_DF.values)\n",
    "Y=np.array(Y_DF.values)\n",
    "X=np.insert(X,0,1,axis=1)\n",
    "print(np.shape(X))\n",
    "print(np.shape(Y))\n"
   ]
  },
  {
   "cell_type": "code",
   "execution_count": 524,
   "metadata": {
    "collapsed": true
   },
   "outputs": [],
   "source": [
    "def min_pred_error(x_test,y_test,b,l):\n",
    "    y_pred=np.dot(x_test,b) #+l*np.linalg.norm(b,2)**2\n",
    "    pred_error=0\n",
    "    pred_error=np.sum(((np.subtract(y_pred,y_test))**2))/len(y_pred)\n",
    "    return(pred_error) #return mean errrors over all (y-pred-y)"
   ]
  },
  {
   "cell_type": "code",
   "execution_count": 525,
   "metadata": {
    "collapsed": true
   },
   "outputs": [],
   "source": [
    "def ridge(x,y,lamb,beta):\n",
    "    I = np.identity(x.shape[1])\n",
    "    beta.append(np.dot(np.dot(np.linalg.inv(np.dot(x.T,x)+lamb*I),x.T),y))\n"
   ]
  },
  {
   "cell_type": "code",
   "execution_count": 526,
   "metadata": {
    "collapsed": true
   },
   "outputs": [],
   "source": [
    "Kfold=10\n",
    "interval=np.shape(X)[0]/Kfold\n",
    "segments=[int(interval*x) for x in range(Kfold)]\n",
    "\n",
    "def find_opt_lamb(lamb):\n",
    "    mean_error=[]\n",
    "    beta=[]\n",
    "    for fold in range(Kfold):   \n",
    "        train_X=np.delete(X,slice(segments[fold]+1,segments[fold]+100,None),axis=0)\n",
    "        test_X=X[segments[fold]+1:segments[fold]+100]\n",
    "        train_Y=np.delete(Y,slice(segments[fold]+1,segments[fold]+100,None),axis=0)\n",
    "        test_Y=Y[segments[fold]+1:segments[fold]+100]\n",
    "        ridge(train_X,train_Y,lamb,beta)\n",
    "        mean_error.append(min_pred_error(test_X,test_Y,beta[fold],lamb)) #collect mean errros for each fold\n",
    "\n",
    "    print('mean error and lamb:',np.mean(mean_error),lamb)\n",
    "\n",
    "    \n"
   ]
  },
  {
   "cell_type": "code",
   "execution_count": 527,
   "metadata": {
    "scrolled": true
   },
   "outputs": [
    {
     "name": "stdout",
     "output_type": "stream",
     "text": [
      "mean error and lamb: 8.73601059007 0\n",
      "mean error and lamb: 8.73600793032 0.0125\n",
      "mean error and lamb: 8.73600531258 0.025\n",
      "mean error and lamb: 8.73600020313 0.05\n",
      "mean error and lamb: 8.73599048835 0.1\n",
      "mean error and lamb: 8.73597307499 0.2\n",
      "mean error and lamb: 8.73593047881 1\n",
      "mean error and lamb: 8.74721437387 10\n"
     ]
    }
   ],
   "source": [
    "lamb=[0,0.0125,0.025,0.05,0.1,0.2,1,10]\n",
    "#find_opt_lamb(0.1)\n",
    "for l in lamb:\n",
    "    find_opt_lamb(l)"
   ]
  },
  {
   "cell_type": "code",
   "execution_count": 531,
   "metadata": {},
   "outputs": [
    {
     "data": {
      "text/plain": [
       "array([3, 6, 9])"
      ]
     },
     "execution_count": 531,
     "metadata": {},
     "output_type": "execute_result"
    }
   ],
   "source": [
    "xx=[[1,2,3],[1,2,3],[1,2,3]]\n",
    "np.sum(xx,axis=0)"
   ]
  },
  {
   "cell_type": "code",
   "execution_count": null,
   "metadata": {
    "collapsed": true
   },
   "outputs": [],
   "source": []
  }
 ],
 "metadata": {
  "kernelspec": {
   "display_name": "Python [conda env:Anaconda3]",
   "language": "python",
   "name": "conda-env-Anaconda3-py"
  },
  "language_info": {
   "codemirror_mode": {
    "name": "ipython",
    "version": 3
   },
   "file_extension": ".py",
   "mimetype": "text/x-python",
   "name": "python",
   "nbconvert_exporter": "python",
   "pygments_lexer": "ipython3",
   "version": "3.6.2"
  }
 },
 "nbformat": 4,
 "nbformat_minor": 2
}
