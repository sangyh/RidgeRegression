{
 "cells": [
  {
   "cell_type": "code",
   "execution_count": 2,
   "metadata": {
    "collapsed": true
   },
   "outputs": [],
   "source": [
    "import pandas as pd\n",
    "import numpy as np\n",
    "from matplotlib import pyplot as plt"
   ]
  },
  {
   "cell_type": "code",
   "execution_count": 3,
   "metadata": {},
   "outputs": [
    {
     "name": "stdout",
     "output_type": "stream",
     "text": [
      "(1000, 10) (1000, 1)\n"
     ]
    }
   ],
   "source": [
    "#function to read data file\n",
    "def read_data(location):\n",
    "    global no_samples,no_features, X_DF,Y_DF\n",
    "    header_details=pd.read_table(location,nrows=2,header=None)\n",
    "    no_samples=header_details[0][0]\n",
    "    no_features=header_details[0][1]\n",
    "    \n",
    "    X_DF=pd.read_table(location,sep=' ',header=None,skiprows=2,nrows=no_samples)\n",
    "    Y_DF=pd.read_table(location,sep=' ',header=None,skiprows=1002)\n",
    "    print(X_DF.shape,Y_DF.shape)\n",
    "    \n",
    "#read data file train-matrix.txt into a dataframe\n",
    "read_data('./train-matrix.txt')\n"
   ]
  },
  {
   "cell_type": "code",
   "execution_count": 4,
   "metadata": {
    "collapsed": true
   },
   "outputs": [],
   "source": [
    "X=np.array(X_DF.values)\n",
    "Y=np.array(Y_DF.values)\n"
   ]
  },
  {
   "cell_type": "markdown",
   "metadata": {},
   "source": [
    "def greedy(X,y,K):\n",
    "\n",
    "    for k in range(K):\n",
    "        print(\"k=\",k)\n",
    "        res=0\n",
    "        max_i=-1\n",
    "        for j in range(no_features):\n",
    "            temp=abs(np.dot(X_DF[:][j].values,np.dot(X_DF.values,beta)-Y_DF.values))\n",
    "            #print(\"temp=\",temp,\"; res=\",res)\n",
    "            if (temp>res):\n",
    "                res=temp\n",
    "                max_i=j\n",
    "        A.append(max_i)\n",
    "\n",
    "\n",
    "    #     print(np.shape(mini_x))\n",
    "    #     #mini_x=X_DF[:][max_i].values\n",
    "    #     #mini_y=Y_DF[max_i].values\n",
    "\n",
    "    #     xtx=np.dot(np.transpose(mini_x),mini_x)\n",
    "    #     if len(A)==1:\n",
    "    #         inv=1/xtx\n",
    "    #     else:\n",
    "    #         inv=np.linalg.inv(xtx)\n",
    "    #     beta[max_i]=np.dot(np.dot(inv,np.transpose(mini_x)),mini_y)\n",
    "\n",
    "        beta=np.dot(np.dot(np.linalg.inv(np.dot(np.transpose(X_DF.values),X_DF.values)),np.transpose(X_DF.values)),Y_DF.values)\n",
    "        for index in range(len(beta)):\n",
    "            if index not in A:\n",
    "                beta[index]=0\n",
    "\n",
    "        print(\"beta=\",beta)\n",
    "\n",
    "        #beta=np.dot(np.dot(np.linalg.inv(np.dot(np.transpose(X_DF.values),X_DF.values)),np.transpose(X_DF.values)),Y_DF.values)\n",
    "\n",
    "\n",
    "    print(A)  \n",
    "    print(beta)"
   ]
  },
  {
   "cell_type": "code",
   "execution_count": 102,
   "metadata": {},
   "outputs": [],
   "source": [
    "def greedy(X,Y,K):\n",
    "    beta=np.zeros((no_features,1))\n",
    "    A=[]\n",
    "    for k in range(K):\n",
    "        #print(\"k=\",k)\n",
    "        res=0\n",
    "        max_i=-1\n",
    "        for j in range(no_features):\n",
    "            temp=abs(np.dot(X[:,j],np.dot(X,beta)-Y))\n",
    "            if (temp>res):\n",
    "                res=temp\n",
    "                max_i=j\n",
    "        A.append(max_i)\n",
    "        \n",
    "        xx=[]#np.zeros(len(A))\n",
    "        for index in range(len(A)):\n",
    "            print(index)\n",
    "            xx.append(np.copy(X[:,A[index]]))\n",
    "        print(np.shape(xx))\n",
    "        xxx=np.array(xx)\n",
    "        xxx=xxx.T\n",
    "        \n",
    "        b=np.dot(np.dot(np.linalg.inv(np.dot(xxx.T,xxx)),xxx.T),Y)\n",
    "        \n",
    "        i=0\n",
    "        for col in A:\n",
    "            beta[col]=b[i]\n",
    "            i+=1\n",
    "\n",
    "    \n",
    "    return A,beta"
   ]
  },
  {
   "cell_type": "code",
   "execution_count": 103,
   "metadata": {},
   "outputs": [
    {
     "name": "stdout",
     "output_type": "stream",
     "text": [
      "0\n",
      "(1, 1000)\n",
      "beta= [[ 13.68417531]\n",
      " [  0.        ]\n",
      " [  0.        ]\n",
      " [  0.        ]\n",
      " [  0.        ]\n",
      " [  0.        ]\n",
      " [  0.        ]\n",
      " [  0.        ]\n",
      " [  0.        ]\n",
      " [  0.        ]]\n",
      "0\n",
      "1\n",
      "(2, 1000)\n",
      "beta= [[ 13.49715878]\n",
      " [  0.        ]\n",
      " [  0.        ]\n",
      " [  0.        ]\n",
      " [  0.        ]\n",
      " [  0.        ]\n",
      " [  0.        ]\n",
      " [ 12.89099587]\n",
      " [  0.        ]\n",
      " [  0.        ]]\n",
      "0\n",
      "1\n",
      "2\n",
      "(3, 1000)\n",
      "beta= [[ 12.8016845 ]\n",
      " [  0.        ]\n",
      " [  0.        ]\n",
      " [ 12.02108579]\n",
      " [  0.        ]\n",
      " [  0.        ]\n",
      " [  0.        ]\n",
      " [ 12.90949745]\n",
      " [  0.        ]\n",
      " [  0.        ]]\n",
      "0\n",
      "1\n",
      "2\n",
      "3\n",
      "(4, 1000)\n",
      "beta= [[ 12.49897863]\n",
      " [  0.        ]\n",
      " [  9.16252976]\n",
      " [ 12.36681045]\n",
      " [  0.        ]\n",
      " [  0.        ]\n",
      " [  0.        ]\n",
      " [ 13.1683648 ]\n",
      " [  0.        ]\n",
      " [  0.        ]]\n",
      "0\n",
      "1\n",
      "2\n",
      "3\n",
      "4\n",
      "(5, 1000)\n",
      "beta= [[ 13.4047086 ]\n",
      " [ -8.90897475]\n",
      " [  9.24590745]\n",
      " [ 12.24192764]\n",
      " [  0.        ]\n",
      " [  0.        ]\n",
      " [  0.        ]\n",
      " [ 12.55921448]\n",
      " [  0.        ]\n",
      " [  0.        ]]\n",
      "0\n",
      "1\n",
      "2\n",
      "3\n",
      "4\n",
      "5\n",
      "(6, 1000)\n",
      "beta= [[ 13.2019937 ]\n",
      " [ -9.09464524]\n",
      " [  9.34579237]\n",
      " [ 12.18458507]\n",
      " [  0.        ]\n",
      " [  0.        ]\n",
      " [  0.        ]\n",
      " [ 12.65362554]\n",
      " [  0.        ]\n",
      " [ -7.42805947]]\n",
      "[[ 13.2019937 ]\n",
      " [ -9.09464524]\n",
      " [  9.34579237]\n",
      " [ 12.18458507]\n",
      " [  0.        ]\n",
      " [  0.        ]\n",
      " [  0.        ]\n",
      " [ 12.65362554]\n",
      " [  0.        ]\n",
      " [ -7.42805947]]\n"
     ]
    }
   ],
   "source": [
    "A,beta=greedy(X,Y,6)\n",
    "print(beta)"
   ]
  },
  {
   "cell_type": "code",
   "execution_count": null,
   "metadata": {
    "collapsed": true
   },
   "outputs": [],
   "source": []
  },
  {
   "cell_type": "code",
   "execution_count": null,
   "metadata": {
    "collapsed": true
   },
   "outputs": [],
   "source": []
  }
 ],
 "metadata": {
  "kernelspec": {
   "display_name": "Python [conda env:Anaconda3]",
   "language": "python",
   "name": "conda-env-Anaconda3-py"
  },
  "language_info": {
   "codemirror_mode": {
    "name": "ipython",
    "version": 3
   },
   "file_extension": ".py",
   "mimetype": "text/x-python",
   "name": "python",
   "nbconvert_exporter": "python",
   "pygments_lexer": "ipython3",
   "version": "3.6.2"
  }
 },
 "nbformat": 4,
 "nbformat_minor": 2
}
